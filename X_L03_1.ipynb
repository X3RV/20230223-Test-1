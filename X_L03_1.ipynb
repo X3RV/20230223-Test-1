{
  "nbformat": 4,
  "nbformat_minor": 0,
  "metadata": {
    "colab": {
      "provenance": [],
      "authorship_tag": "ABX9TyOq0Ck1G/zvbD+yEbkvItIW",
      "include_colab_link": true
    },
    "kernelspec": {
      "name": "python3",
      "display_name": "Python 3"
    },
    "language_info": {
      "name": "python"
    }
  },
  "cells": [
    {
      "cell_type": "markdown",
      "metadata": {
        "id": "view-in-github",
        "colab_type": "text"
      },
      "source": [
        "<a href=\"https://colab.research.google.com/github/X3RV/20230223-Test-1-ml/blob/main/X_L03_1.ipynb\" target=\"_parent\"><img src=\"https://colab.research.google.com/assets/colab-badge.svg\" alt=\"Open In Colab\"/></a>"
      ]
    },
    {
      "cell_type": "code",
      "execution_count": null,
      "metadata": {
        "id": "HF5hGRWtDN_I"
      },
      "outputs": [],
      "source": [
        "\n"
      ]
    },
    {
      "cell_type": "code",
      "source": [
        "!wget https://raw.githubusercontent.com/plotly/datasets/master/diabetes.csv"
      ],
      "metadata": {
        "colab": {
          "base_uri": "https://localhost:8080/"
        },
        "id": "dtHu4Qh5AWjj",
        "outputId": "f83d031c-28e6-47f0-8996-76aeaccb5b54"
      },
      "execution_count": 1,
      "outputs": [
        {
          "output_type": "stream",
          "name": "stdout",
          "text": [
            "--2023-02-24 02:44:56--  https://raw.githubusercontent.com/plotly/datasets/master/diabetes.csv\n",
            "Resolving raw.githubusercontent.com (raw.githubusercontent.com)... 185.199.108.133, 185.199.110.133, 185.199.111.133, ...\n",
            "Connecting to raw.githubusercontent.com (raw.githubusercontent.com)|185.199.108.133|:443... connected.\n",
            "HTTP request sent, awaiting response... 200 OK\n",
            "Length: 23873 (23K) [text/plain]\n",
            "Saving to: ‘diabetes.csv.1’\n",
            "\n",
            "diabetes.csv.1      100%[===================>]  23.31K  --.-KB/s    in 0.002s  \n",
            "\n",
            "2023-02-24 02:44:57 (13.3 MB/s) - ‘diabetes.csv.1’ saved [23873/23873]\n",
            "\n"
          ]
        }
      ]
    },
    {
      "cell_type": "code",
      "source": [
        "###############################################################################\n",
        "#   X-L03-1.ipyynb\n",
        "#   \n",
        "#   Version 20230223 0.0.1\n",
        "#   By X3RV\n",
        "#   02/23/2023 \n",
        "#\n",
        "#   Status:  Complete\n",
        "#\n",
        "#   Purpose:  Decision tree machine learning.  \n",
        "#   Diabetes training\n",
        "#   \n",
        "#\n",
        "#   Last Update:  02/23/2023  X3RV\n",
        "#\n",
        "################################################################################\n",
        "# \n",
        "from sklearn import tree\n",
        "import graphviz\n",
        "\n",
        "\n",
        "with open(\"diabetes.csv\", \"r\") as f:\n",
        "  data = f.readlines()\n",
        "\n",
        "feats = data[0]\n",
        "feats = feats.replace('\\n','')\n",
        "feats = feats.split(\",\")\n",
        "\n",
        "print(feats)\n",
        "\n",
        "# Last element is an outcome the rest are features\n",
        "feats = feats[0:(len(feats) - 1)]\n",
        "\n",
        "# data list\n",
        "dat = []\n",
        "# label list\n",
        "labs = []\n",
        "\n",
        "for i in range(1, len(data)):\n",
        "  line = data[i]\n",
        "  line = line.replace('\\n','')\n",
        "  csvline = line.split(\",\")\n",
        "  labs = labs + [int(csvline[len(csvline) - 1])]\n",
        "  csvline = [float(csvline[i]) for i in range(len(csvline) - 1)]\n",
        "  dat = dat + [csvline]\n",
        "\n",
        "print(dat[15])\n",
        "\n",
        "clf = tree.DecisionTreeClassifier(max_leaf_nodes = 3)\n",
        "clf = clf.fit(dat, labs)\n",
        "\n",
        "correct = 0\n",
        "for i in range(len(dat)):\n",
        "  if clf.predict([dat[i]]) == labs[i]: \n",
        "    correct = correct +1\n",
        "100.0* correct / len(dat)\n",
        "\n",
        "# Export the decision tree visualization\n",
        "dot_data = tree.export_graphviz(clf, feature_names=feats, filled=True, rounded=True)\n",
        "graph = graphviz.Source(dot_data)\n",
        "graph\n",
        "\n"
      ],
      "metadata": {
        "colab": {
          "base_uri": "https://localhost:8080/",
          "height": 415
        },
        "id": "thXnyXO8AAao",
        "outputId": "618260f2-b5ca-4444-b1cb-22b0b1fb3c0a"
      },
      "execution_count": 12,
      "outputs": [
        {
          "output_type": "stream",
          "name": "stdout",
          "text": [
            "['Pregnancies', 'Glucose', 'BloodPressure', 'SkinThickness', 'Insulin', 'BMI', 'DiabetesPedigreeFunction', 'Age', 'Outcome']\n",
            "[7.0, 100.0, 0.0, 0.0, 0.0, 30.0, 0.484, 32.0]\n"
          ]
        },
        {
          "output_type": "execute_result",
          "data": {
            "text/plain": [
              "<graphviz.files.Source at 0x7f9f2bcd24f0>"
            ],
            "image/svg+xml": "<?xml version=\"1.0\" encoding=\"UTF-8\" standalone=\"no\"?>\n<!DOCTYPE svg PUBLIC \"-//W3C//DTD SVG 1.1//EN\"\n \"http://www.w3.org/Graphics/SVG/1.1/DTD/svg11.dtd\">\n<!-- Generated by graphviz version 2.43.0 (0)\n -->\n<!-- Title: Tree Pages: 1 -->\n<svg width=\"330pt\" height=\"269pt\"\n viewBox=\"0.00 0.00 330.00 269.00\" xmlns=\"http://www.w3.org/2000/svg\" xmlns:xlink=\"http://www.w3.org/1999/xlink\">\n<g id=\"graph0\" class=\"graph\" transform=\"scale(1 1) rotate(0) translate(4 265)\">\n<title>Tree</title>\n<polygon fill=\"white\" stroke=\"transparent\" points=\"-4,4 -4,-265 326,-265 326,4 -4,4\"/>\n<!-- 0 -->\n<g id=\"node1\" class=\"node\">\n<title>0</title>\n<path fill=\"#f3c5a3\" stroke=\"black\" d=\"M178,-261C178,-261 77,-261 77,-261 71,-261 65,-255 65,-249 65,-249 65,-205 65,-205 65,-199 71,-193 77,-193 77,-193 178,-193 178,-193 184,-193 190,-199 190,-205 190,-205 190,-249 190,-249 190,-255 184,-261 178,-261\"/>\n<text text-anchor=\"middle\" x=\"127.5\" y=\"-245.8\" font-family=\"Helvetica,sans-Serif\" font-size=\"14.00\">Glucose &lt;= 127.5</text>\n<text text-anchor=\"middle\" x=\"127.5\" y=\"-230.8\" font-family=\"Helvetica,sans-Serif\" font-size=\"14.00\">gini = 0.454</text>\n<text text-anchor=\"middle\" x=\"127.5\" y=\"-215.8\" font-family=\"Helvetica,sans-Serif\" font-size=\"14.00\">samples = 768</text>\n<text text-anchor=\"middle\" x=\"127.5\" y=\"-200.8\" font-family=\"Helvetica,sans-Serif\" font-size=\"14.00\">value = [500, 268]</text>\n</g>\n<!-- 1 -->\n<g id=\"node2\" class=\"node\">\n<title>1</title>\n<path fill=\"#eb9f69\" stroke=\"black\" d=\"M105,-149.5C105,-149.5 12,-149.5 12,-149.5 6,-149.5 0,-143.5 0,-137.5 0,-137.5 0,-108.5 0,-108.5 0,-102.5 6,-96.5 12,-96.5 12,-96.5 105,-96.5 105,-96.5 111,-96.5 117,-102.5 117,-108.5 117,-108.5 117,-137.5 117,-137.5 117,-143.5 111,-149.5 105,-149.5\"/>\n<text text-anchor=\"middle\" x=\"58.5\" y=\"-134.3\" font-family=\"Helvetica,sans-Serif\" font-size=\"14.00\">gini = 0.313</text>\n<text text-anchor=\"middle\" x=\"58.5\" y=\"-119.3\" font-family=\"Helvetica,sans-Serif\" font-size=\"14.00\">samples = 485</text>\n<text text-anchor=\"middle\" x=\"58.5\" y=\"-104.3\" font-family=\"Helvetica,sans-Serif\" font-size=\"14.00\">value = [391, 94]</text>\n</g>\n<!-- 0&#45;&gt;1 -->\n<g id=\"edge1\" class=\"edge\">\n<title>0&#45;&gt;1</title>\n<path fill=\"none\" stroke=\"black\" d=\"M105.1,-192.88C97.51,-181.67 89.03,-169.13 81.4,-157.85\"/>\n<polygon fill=\"black\" stroke=\"black\" points=\"84.27,-155.84 75.76,-149.52 78.47,-159.76 84.27,-155.84\"/>\n<text text-anchor=\"middle\" x=\"71.03\" y=\"-170.37\" font-family=\"Helvetica,sans-Serif\" font-size=\"14.00\">True</text>\n</g>\n<!-- 2 -->\n<g id=\"node3\" class=\"node\">\n<title>2</title>\n<path fill=\"#b5daf5\" stroke=\"black\" d=\"M248,-157C248,-157 147,-157 147,-157 141,-157 135,-151 135,-145 135,-145 135,-101 135,-101 135,-95 141,-89 147,-89 147,-89 248,-89 248,-89 254,-89 260,-95 260,-101 260,-101 260,-145 260,-145 260,-151 254,-157 248,-157\"/>\n<text text-anchor=\"middle\" x=\"197.5\" y=\"-141.8\" font-family=\"Helvetica,sans-Serif\" font-size=\"14.00\">BMI &lt;= 29.95</text>\n<text text-anchor=\"middle\" x=\"197.5\" y=\"-126.8\" font-family=\"Helvetica,sans-Serif\" font-size=\"14.00\">gini = 0.474</text>\n<text text-anchor=\"middle\" x=\"197.5\" y=\"-111.8\" font-family=\"Helvetica,sans-Serif\" font-size=\"14.00\">samples = 283</text>\n<text text-anchor=\"middle\" x=\"197.5\" y=\"-96.8\" font-family=\"Helvetica,sans-Serif\" font-size=\"14.00\">value = [109, 174]</text>\n</g>\n<!-- 0&#45;&gt;2 -->\n<g id=\"edge2\" class=\"edge\">\n<title>0&#45;&gt;2</title>\n<path fill=\"none\" stroke=\"black\" d=\"M150.23,-192.88C156.16,-184.24 162.62,-174.82 168.82,-165.79\"/>\n<polygon fill=\"black\" stroke=\"black\" points=\"171.87,-167.52 174.65,-157.3 166.1,-163.56 171.87,-167.52\"/>\n<text text-anchor=\"middle\" x=\"179.22\" y=\"-178.18\" font-family=\"Helvetica,sans-Serif\" font-size=\"14.00\">False</text>\n</g>\n<!-- 3 -->\n<g id=\"node4\" class=\"node\">\n<title>3</title>\n<path fill=\"#f1bb94\" stroke=\"black\" d=\"M174.5,-53C174.5,-53 88.5,-53 88.5,-53 82.5,-53 76.5,-47 76.5,-41 76.5,-41 76.5,-12 76.5,-12 76.5,-6 82.5,0 88.5,0 88.5,0 174.5,0 174.5,0 180.5,0 186.5,-6 186.5,-12 186.5,-12 186.5,-41 186.5,-41 186.5,-47 180.5,-53 174.5,-53\"/>\n<text text-anchor=\"middle\" x=\"131.5\" y=\"-37.8\" font-family=\"Helvetica,sans-Serif\" font-size=\"14.00\">gini = 0.432</text>\n<text text-anchor=\"middle\" x=\"131.5\" y=\"-22.8\" font-family=\"Helvetica,sans-Serif\" font-size=\"14.00\">samples = 76</text>\n<text text-anchor=\"middle\" x=\"131.5\" y=\"-7.8\" font-family=\"Helvetica,sans-Serif\" font-size=\"14.00\">value = [52, 24]</text>\n</g>\n<!-- 2&#45;&gt;3 -->\n<g id=\"edge3\" class=\"edge\">\n<title>2&#45;&gt;3</title>\n<path fill=\"none\" stroke=\"black\" d=\"M174.42,-88.95C168.22,-80.07 161.51,-70.46 155.27,-61.54\"/>\n<polygon fill=\"black\" stroke=\"black\" points=\"158.07,-59.43 149.47,-53.24 152.33,-63.44 158.07,-59.43\"/>\n</g>\n<!-- 4 -->\n<g id=\"node5\" class=\"node\">\n<title>4</title>\n<path fill=\"#84c2ef\" stroke=\"black\" d=\"M310,-53C310,-53 217,-53 217,-53 211,-53 205,-47 205,-41 205,-41 205,-12 205,-12 205,-6 211,0 217,0 217,0 310,0 310,0 316,0 322,-6 322,-12 322,-12 322,-41 322,-41 322,-47 316,-53 310,-53\"/>\n<text text-anchor=\"middle\" x=\"263.5\" y=\"-37.8\" font-family=\"Helvetica,sans-Serif\" font-size=\"14.00\">gini = 0.399</text>\n<text text-anchor=\"middle\" x=\"263.5\" y=\"-22.8\" font-family=\"Helvetica,sans-Serif\" font-size=\"14.00\">samples = 207</text>\n<text text-anchor=\"middle\" x=\"263.5\" y=\"-7.8\" font-family=\"Helvetica,sans-Serif\" font-size=\"14.00\">value = [57, 150]</text>\n</g>\n<!-- 2&#45;&gt;4 -->\n<g id=\"edge4\" class=\"edge\">\n<title>2&#45;&gt;4</title>\n<path fill=\"none\" stroke=\"black\" d=\"M220.58,-88.95C226.78,-80.07 233.49,-70.46 239.73,-61.54\"/>\n<polygon fill=\"black\" stroke=\"black\" points=\"242.67,-63.44 245.53,-53.24 236.93,-59.43 242.67,-63.44\"/>\n</g>\n</g>\n</svg>\n"
          },
          "metadata": {},
          "execution_count": 12
        }
      ]
    }
  ]
}